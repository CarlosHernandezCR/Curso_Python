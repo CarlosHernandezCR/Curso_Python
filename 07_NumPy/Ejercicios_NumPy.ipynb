{
 "cells": [
  {
   "cell_type": "markdown",
   "metadata": {},
   "source": [
    "<hr>\n",
    "<b><font color='red'>Ejercicio 01</font></b>  "
   ]
  },
  {
   "cell_type": "markdown",
   "metadata": {},
   "source": [
    "Selecciona las primera columna de la matriz `p` proporcionada, y guárdala en la variable `p1`. Sustituye los elementos de p1 que sean iguales a 0, por el valor $7$."
   ]
  },
  {
   "cell_type": "code",
   "execution_count": 2,
   "metadata": {},
   "outputs": [
    {
     "name": "stdout",
     "output_type": "stream",
     "text": [
      "[1 7 7]\n"
     ]
    }
   ],
   "source": [
    "import numpy as np\n",
    "p = np.array([[1,2,4],[0,0,0],[0,6,8]])\n",
    "p1 = p[:, 0]\n",
    "p1[p1==0] = 7\n",
    "print(p1)\n",
    "# Escribe tu código aquí"
   ]
  },
  {
   "cell_type": "markdown",
   "metadata": {},
   "source": [
    "<hr>\n",
    "<b><font color='red'>Ejercicio 02</font></b>  "
   ]
  },
  {
   "cell_type": "markdown",
   "metadata": {},
   "source": [
    "Obtener una función que calcule la distancia forman dos vectores\n",
    "\n",
    "$$\n",
    "v=[v_1,v_2,v_3,...]\n",
    "\\newline\n",
    "u=[u_1,u_2,u_3,...]\n",
    "\\newline\n",
    "d=\\sqrt{ (u_1-v_1)^2 + (u_2-v_2)^2 + (u_3-v_3)^2 + ... }\n",
    "$$"
   ]
  },
  {
   "cell_type": "code",
   "execution_count": 6,
   "metadata": {},
   "outputs": [
    {
     "data": {
      "text/plain": [
       "2.23606797749979"
      ]
     },
     "execution_count": 6,
     "metadata": {},
     "output_type": "execute_result"
    }
   ],
   "source": [
    "def d(v, u):\n",
    "    return np.sqrt(np.square(u[0] - v[0])+np.square(u[1] - v[1]))\n",
    "    \n",
    "\n",
    "v = np.array([1,-1])\n",
    "u = np.array([0,1])\n",
    "\n",
    "d(v,u) # El resultado debería de ser 2.2360679775 "
   ]
  },
  {
   "cell_type": "markdown",
   "metadata": {},
   "source": [
    "<hr>\n",
    "<b><font color='red'>Ejercicio 03</font></b>  "
   ]
  },
  {
   "cell_type": "markdown",
   "metadata": {},
   "source": [
    "Obtener una función que calcule el coseno del ángulo que forman dos vectores\n",
    "\n",
    "$$ \\cos \\theta = \\frac{\\langle v, u \\rangle}{||v|| ||u||} $$\n",
    "\n",
    "donde $|| v ||$ es la norma del vector v, que se puede expresar como $\\sqrt{\\langle v, v \\rangle} = \\sqrt{ v_1^2 +  v_2^2 +  v_3^2 + ... }$ y el producto escalar $\\langle v, u \\rangle = v_1 u_1 + v_2 u_2 + ...$\n"
   ]
  },
  {
   "cell_type": "code",
   "execution_count": 3,
   "metadata": {},
   "outputs": [
    {
     "data": {
      "text/plain": [
       "-1.0"
      ]
     },
     "execution_count": 3,
     "metadata": {},
     "output_type": "execute_result"
    }
   ],
   "source": [
    "def cos(v, u):\n",
    "    resultUp = (v[0] * u[0]) + (v[1] * u[1])\n",
    "    resultDownLeft = np.sqrt(np.square(v[0]) + np.square(v[1]))\n",
    "    resultDownRight = np.sqrt(np.square(u[0]) + np.square(u[1]))\n",
    "    resultDown = resultDownLeft * resultDownRight\n",
    "    return resultUp / resultDown\n",
    "\n",
    "v = np.array([0,-1])\n",
    "u = np.array([0,1])\n",
    "\n",
    "cos(v,u)  # El resultado debería de ser -1.0"
   ]
  },
  {
   "cell_type": "markdown",
   "metadata": {},
   "source": [
    "<hr>\n",
    "<b><font color='red'>Ejercicio 04</font></b>  \n",
    "\n",
    "Vuelve hacer el ejercicio que hicimos en el cápitulo anterior, utilizando las funciones de numpy:\n",
    "\n",
    "Crea una función que te devuelva la media y la desviación estándar de una lista ordenada.  \n",
    "Pruébalo con lista = [4, 1, 11, 13, 2, 7]  \n",
    "ayuda : https://es.wikipedia.org/wiki/Desviaci%C3%B3n_t%C3%ADpica"
   ]
  },
  {
   "cell_type": "code",
   "execution_count": 7,
   "metadata": {},
   "outputs": [
    {
     "name": "stdout",
     "output_type": "stream",
     "text": [
      "[4, 1, 11, 13, 2, 7]\n",
      "media = 6.333333333333333 ± 4.459696053419884\n"
     ]
    }
   ],
   "source": [
    "#hemos borrado las funciones, cambia el codígo siguiente\n",
    "\n",
    "lista = [4, 1, 11, 13, 2, 7]\n",
    "print(lista)\n",
    "print(\"media = \"+str(np.mean(lista))+\" \\u00B1 \"+str(np.std(lista)))"
   ]
  },
  {
   "cell_type": "markdown",
   "metadata": {},
   "source": [
    "<hr>\n",
    "<b><font color='red'>Ejercicio 05</font></b>  \n",
    "\n",
    "Crear un array con 1 en el borde y  0 dentro"
   ]
  },
  {
   "cell_type": "code",
   "execution_count": 8,
   "metadata": {},
   "outputs": [
    {
     "data": {
      "text/plain": [
       "array([[1., 1., 1., 1., 1., 1., 1., 1., 1., 1.],\n",
       "       [1., 0., 0., 0., 0., 0., 0., 0., 0., 1.],\n",
       "       [1., 0., 0., 0., 0., 0., 0., 0., 0., 1.],\n",
       "       [1., 0., 0., 0., 0., 0., 0., 0., 0., 1.],\n",
       "       [1., 0., 0., 0., 0., 0., 0., 0., 0., 1.],\n",
       "       [1., 0., 0., 0., 0., 0., 0., 0., 0., 1.],\n",
       "       [1., 0., 0., 0., 0., 0., 0., 0., 0., 1.],\n",
       "       [1., 0., 0., 0., 0., 0., 0., 0., 0., 1.],\n",
       "       [1., 0., 0., 0., 0., 0., 0., 0., 0., 1.],\n",
       "       [1., 1., 1., 1., 1., 1., 1., 1., 1., 1.]])"
      ]
     },
     "execution_count": 8,
     "metadata": {},
     "output_type": "execute_result"
    }
   ],
   "source": [
    "\"\"\"Esribe tu código aquí\"\"\"\n",
    "array = np.zeros([10,10])\n",
    "array[0, :] = 1\n",
    "array[:, 0] = 1\n",
    "array[9, :] = 1\n",
    "array[:, 9] = 1\n",
    "array\n",
    "# la salida tiene que ser:\n",
    "#array([[1., 1., 1., 1., 1., 1., 1., 1., 1., 1.],\n",
    "#      [1., 0., 0., 0., 0., 0., 0., 0., 0., 1.],\n",
    "#      [1., 0., 0., 0., 0., 0., 0., 0., 0., 1.],\n",
    "#      [1., 0., 0., 0., 0., 0., 0., 0., 0., 1.],\n",
    "#      [1., 0., 0., 0., 0., 0., 0., 0., 0., 1.],\n",
    "#      [1., 0., 0., 0., 0., 0., 0., 0., 0., 1.],\n",
    "#      [1., 0., 0., 0., 0., 0., 0., 0., 0., 1.],\n",
    "#      [1., 0., 0., 0., 0., 0., 0., 0., 0., 1.],\n",
    "#      [1., 0., 0., 0., 0., 0., 0., 0., 0., 1.],\n",
    "#      [1., 1., 1., 1., 1., 1., 1., 1., 1., 1.]])"
   ]
  },
  {
   "cell_type": "markdown",
   "metadata": {},
   "source": [
    "<hr>\n",
    "<b><font color='red'>Ejercicio 06</font></b>  \n",
    "\n",
    "Fíjate en el siguiente sistema de ecuaciones:\n",
    "$$-x+y=1 \\\\ x+y=3$$\n",
    "\n",
    "Escrito de forma matricial $(Ax = b)$:\n",
    "\n",
    "$$\n",
    "\\begin{pmatrix}\n",
    "-1 & 1\\\\\n",
    "1 & 1 \\\\\n",
    "\\end{pmatrix}\n",
    "\\begin{pmatrix}\n",
    "x\\\\\n",
    "y\\\\\n",
    "\\end{pmatrix}\n",
    "=\n",
    "\\begin{pmatrix}\n",
    "1\\\\\n",
    "3\\\\\n",
    "\\end{pmatrix}\n",
    "$$\n",
    "\n",
    "Podemos verla solución de forma gráfica\n",
    "\n",
    "<img src=\"ecuaciones.png\">\n",
    "\n",
    "Supongamos que tenemos un sistema de n ecuaciones lineales con n incógnitas. Podemos representar el sistema de forma matricial como:\n",
    "$$Ax=b$$\n",
    "Si el sistema tiene una única solución (es compatible determinado), entonces la matriz $A$ es regular (determinante distinto de 0) y, por tanto, existe su matriz inversa $A^{−1}$.\n",
    "Entonces, podemos multiplicar toda la ecuación por la inversa de $A^{−1}$:\n",
    "$$A^{-1}\\cdot Ax=A^{-1}\\cdot b$$\n",
    "$$x = A^{-1}\\cdot b$$\n",
    "Es decir, si la matriz $A$ es regular, entonces la matriz columna resultante del producto matricial $A^{−1} \\cdot b $ contiene la solución del sistema $Ax=b$. "
   ]
  },
  {
   "cell_type": "code",
   "execution_count": 9,
   "metadata": {},
   "outputs": [
    {
     "name": "stdout",
     "output_type": "stream",
     "text": [
      "Ainv * A=  [[1. 0.]\n",
      " [0. 1.]]\n",
      "[x , y]=  [1. 2.]\n"
     ]
    }
   ],
   "source": [
    "A = np.array([[-1,1], [1, 1]])\n",
    "b = np.array([1,3])\n",
    "Ainv = np.linalg.inv(A)\n",
    "resultado = np.dot(Ainv,b)\n",
    "x = resultado[0]\n",
    "y = resultado[1]\n",
    "#busca como np hace la inversa de una matriz\n",
    "\"\"\"Esribe tu código aquí\"\"\"\n",
    "\n",
    "#Cuando tengas la matriz Ainv descomenta las siguientes lineas para comprobar el resultado\n",
    "print(\"Ainv * A= \",np.dot(Ainv,A)) # la unidad\n",
    "print(\"[x , y]= \",np.dot(Ainv,b))  #solución = 1,2 (ver gráfico)\n"
   ]
  },
  {
   "cell_type": "markdown",
   "metadata": {},
   "source": [
    "<hr>\n",
    "<b><font color='red'>Ejercicio 07</font></b> \n",
    "\n",
    "Utilizando la matriz de transición vista en el ejemplo de (Cadenas de Markov), pongamos el caso de una población de 1000 habitantes que en un momento inicial compran 1000 productos de la marca B, como sería la distribución de compras en la decima compra."
   ]
  },
  {
   "cell_type": "code",
   "execution_count": 4,
   "metadata": {},
   "outputs": [
    {
     "name": "stdout",
     "output_type": "stream",
     "text": [
      "[[0.6 0.3 0.1]\n",
      " [0.3 0.5 0.2]\n",
      " [0.4 0.3 0.3]]\n",
      "[600. 300. 100.]\n",
      "V2 =  [490. 360. 150.]\n",
      "V3 =  [462. 372. 166.]\n",
      "V4 =  [455.2 374.4 170.4]\n",
      "V5 =  [453.6  374.88 171.52]\n",
      "V6 =  [453.232 374.976 171.792]\n",
      "V7 =  [453.1488 374.9952 171.856 ]\n",
      "V8 =  [453.13024 374.99904 171.87072]\n",
      "V9 =  [453.126144 374.999808 171.874048]\n",
      "V10 =  [453.125248  374.9999616 171.8747904]\n"
     ]
    }
   ],
   "source": [
    "\n",
    "M = np.array([[0.6,0.3,0.1],[0.3,0.5,0.2],[0.4,0.3,0.3]])\n",
    "print(M)\n",
    "#Pongamos el caso de una población 1000 habitantes que en un momento inicial compran las marcas siguiendo la siguiente distribución:\n",
    "V=np.array([1000,0,0])\n",
    "#para estimar lo que sucederá en la siguiente compra tendremos que multiplica la matriz M por el vector V\n",
    "V1=V.dot(M)\n",
    "print(V1)\n",
    "V2=V1.dot(M)\n",
    "print(\"V2 = \",V2)\n",
    "V3=V2.dot(M)\n",
    "print(\"V3 = \",V3)\n",
    "V4=V3.dot(M)\n",
    "print(\"V4 = \",V4)\n",
    "V5=V4.dot(M)\n",
    "print(\"V5 = \",V5)\n",
    "V6=V5.dot(M)\n",
    "print(\"V6 = \",V6)\n",
    "V7=V6.dot(M)\n",
    "print(\"V7 = \",V7)\n",
    "V8=V7.dot(M)\n",
    "print(\"V8 = \",V8)\n",
    "V9=V8.dot(M)\n",
    "print(\"V9 = \",V9)\n",
    "V10=V9.dot(M)\n",
    "print(\"V10 = \",V10)"
   ]
  },
  {
   "cell_type": "markdown",
   "metadata": {},
   "source": [
    "<hr>\n",
    "<b><font color='red'>Ejercicio 08</font></b>\n",
    "\n",
    "En el siguiente juego, 3 niños y 3 niñas juegan a pasarse la pelota, si la probabilidad de pasar la pelota a la derecha o a su izquierda es la misma (1/2), crea la matriz de transición como hemos visto en clase, y obten la probabilidad de que la pelota llegue a 4 en la 3ª ronda si ha empezado en 1. \n",
    "\n",
    "sol : 0.25\n",
    "\n",
    "<img src=\"pelota.gif\">\n",
    "\n"
   ]
  },
  {
   "cell_type": "code",
   "execution_count": 34,
   "metadata": {},
   "outputs": [
    {
     "name": "stdout",
     "output_type": "stream",
     "text": [
      "Matriz de transición M:\n",
      "[[0.  0.5 0.5 0.  0.  0. ]\n",
      " [0.5 0.  0.  0.5 0.  0. ]\n",
      " [0.  0.5 0.  0.  0.5 0. ]\n",
      " [0.  0.  0.5 0.  0.  0.5]\n",
      " [0.  0.  0.  0.5 0.  0.5]\n",
      " [0.5 0.  0.  0.  0.5 0. ]]\n",
      "0.25\n"
     ]
    }
   ],
   "source": [
    "import numpy as np\n",
    "M = np.array([[0, 0.5, 0.5, 0, 0, 0],\n",
    "              [0.5, 0, 0, 0.5, 0, 0],\n",
    "              [0, 0.5, 0, 0, 0.5, 0],\n",
    "              [0, 0, 0.5, 0, 0, 0.5],\n",
    "              [0, 0, 0, 0.5, 0, 0.5],\n",
    "              [0.5, 0, 0, 0, 0.5,0 ]])\n",
    "M_cubed = np.linalg.matrix_power(M, 3)\n",
    "probabilidad = M_cubed[0, 3]\n",
    "print(M)\n",
    "print(M_cubed[0, 3])"
   ]
  },
  {
   "cell_type": "markdown",
   "metadata": {},
   "source": [
    "<hr>\n",
    "<b><font color='red'>Ejercicio 09</font></b>\n",
    "\n",
    "En 1674 G. Leibnitz da la serie:\n",
    "$$ \\frac{\\pi}{4} = 1-\\frac{1}{3}+\\frac{1}{5}-\\frac{1}{7}+\\frac{1}{9}+...$$\n",
    "Es decir que:\n",
    "$$ \\pi = 4-\\frac{4}{3}+\\frac{4}{5}-\\frac{4}{7}+\\frac{4}{9}+...$$\n",
    "Haz la serie hasta el termino $\\frac{4}{10000}$, el resultado es 3.14139265359...."
   ]
  },
  {
   "cell_type": "code",
   "execution_count": 21,
   "metadata": {},
   "outputs": [
    {
     "name": "stdout",
     "output_type": "stream",
     "text": [
      "3.141392653591791\n"
     ]
    }
   ],
   "source": [
    "\"\"\"Esribe tu código aquí\"\"\"\n",
    "n = 1\n",
    "contador = 1 \n",
    "resultado = 0\n",
    "while n <= 10000:\n",
    "    termino = 4 / n\n",
    "    if contador % 2 == 0:\n",
    "        resultado -= termino\n",
    "    else:\n",
    "        resultado += termino\n",
    "    n += 2  # Siguiente término\n",
    "    contador += 1\n",
    "print(resultado)\n",
    "terminos = 4 / n"
   ]
  },
  {
   "cell_type": "code",
   "execution_count": null,
   "metadata": {},
   "outputs": [],
   "source": []
  }
 ],
 "metadata": {
  "kernelspec": {
   "display_name": "Python 3 (ipykernel)",
   "language": "python",
   "name": "python3"
  },
  "language_info": {
   "codemirror_mode": {
    "name": "ipython",
    "version": 3
   },
   "file_extension": ".py",
   "mimetype": "text/x-python",
   "name": "python",
   "nbconvert_exporter": "python",
   "pygments_lexer": "ipython3",
   "version": "3.11.9"
  }
 },
 "nbformat": 4,
 "nbformat_minor": 4
}
