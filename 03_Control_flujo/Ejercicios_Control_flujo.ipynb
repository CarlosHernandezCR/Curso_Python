{
 "cells": [
  {
   "cell_type": "markdown",
   "id": "5de198f3",
   "metadata": {},
   "source": [
    "<hr>\n",
    "<b><font color='red'>Ejercicio 01</font></b>  \n",
    "\n",
    "- __La media__, es el promedio  \n",
    "$$\\mu = \\frac{1}{N}\\sum_{i=1}^{N} x_i$$\n",
    "- __La desviación estandar__ es una medida que se utiliza para cuantificar la variación o la dispersión de un conjunto de datos numéricos  \n",
    "$$\\sigma = \\sqrt{\\frac{1}{N}\\sum_{i=1}^{N} ( \\mu  - x_i )^{2}} $$\n",
    "Crea una función que te devuelva la media y la desviación estándar de una lista ordenada.  \n",
    "Pruébalo con lista = [4, 1, 11, 13, 2, 7]  \n",
    "ayuda : https://es.wikipedia.org/wiki/Desviaci%C3%B3n_t%C3%ADpica\n"
   ]
  },
  {
   "cell_type": "code",
   "execution_count": 7,
   "id": "1e17a159",
   "metadata": {},
   "outputs": [
    {
     "name": "stdout",
     "output_type": "stream",
     "text": [
      "[4, 1, 11, 13, 2, 7]\n",
      "media = 6.333333333333333 ± (3.611035600816696e-16+5.897268670984711j)\n"
     ]
    }
   ],
   "source": [
    "def media(l):\n",
    "    \"\"\"Esribe tu código aquí\"\"\"\n",
    "    return sum(l)/len(l)\n",
    "\n",
    "def DES(l):\n",
    "    \"\"\"Esribe tu código aquí\"\"\"\n",
    "    sCuadrados=sum(x-media(l)**2 for x in l) \n",
    "    return (sCuadrados/len(l)-1)**0.5\n",
    "\n",
    "lista = [4, 1, 11, 13, 2, 7]\n",
    "print(lista)\n",
    "print(\"media = \"+str(media(lista))+\" \\u00B1 \"+str(DES(lista)))"
   ]
  },
  {
   "cell_type": "markdown",
   "id": "f329a7fa",
   "metadata": {},
   "source": [
    "<hr>\n",
    "<b><font color='red'>Ejercicio 02 </font></b>  \n",
    "    \n",
    "En matemática, la sucesión o __serie de Fibonacci__ es la siguiente sucesión infinita de números naturales:  \n",
    "0 , 1 , 1 , 2 , 3 , 5 , 8 , 13 , 21 , 34 , 55 , 89 , 144 , 233 , 377 , 610 , 987 , 1597  \n",
    "Crea una función que te devuelva la serie de Fibonacci hasta un número dado"
   ]
  },
  {
   "cell_type": "code",
   "execution_count": 8,
   "id": "29c01ca4",
   "metadata": {},
   "outputs": [
    {
     "name": "stdout",
     "output_type": "stream",
     "text": [
      "[0, 1, 1, 2, 3, 5, 8, 13, 21, 34]\n"
     ]
    }
   ],
   "source": [
    "def fibonacci(n):\n",
    "    \"\"\"Esribe tu código aquí\"\"\"\n",
    "    if n <= 0:\n",
    "        return []\n",
    "\n",
    "    if n == 1:\n",
    "        return [0]\n",
    "\n",
    "    f = [0, 1]\n",
    "\n",
    "    for i in range(2, n):\n",
    "        n = f[i - 1] + f[i - 2]\n",
    "        f.append(n)\n",
    "\n",
    "    return f\n",
    "\n",
    "print(fibonacci(10))\n"
   ]
  },
  {
   "cell_type": "markdown",
   "id": "f254e5ed",
   "metadata": {},
   "source": [
    "<hr>\n",
    "<b><font color='red'>Ejercicio 03</font></b>  \n",
    "\n",
    "Cuenta que, cuando Julio César escribía sus mensajes, reemplazaba cada letra por la que estaba tres lugares más adelante en el alfabeto. Es decir,\n",
    "\"césar\" pasaba a ser \"FHVDU\", crea una función llamada Julio_Cesar que encripte los mensajes de entrada de la siguiente forma:\n",
    "- Pasa las palabras a mayúsculas\n",
    "- Quita los acentos Á -> A, etc ..\n",
    "- Cambia solo ABCDEFGHIJKLMNÑOPQRSTUVWXYZ\n"
   ]
  },
  {
   "cell_type": "code",
   "execution_count": 15,
   "id": "deb6d43d",
   "metadata": {
    "scrolled": true
   },
   "outputs": [
    {
     "name": "stdout",
     "output_type": "stream",
     "text": [
      "Hola Julio Cesar, ¿Qué tal estas? ABCDEFGHIJKLMNÑOPQRSTUVWXYZ\n",
      "KRÑD MXÑLR FHVDU, ¿TXH WDÑ HVWDV? DEFGHIJKLMNÑOPQRSTUVWXYZABC\n"
     ]
    }
   ],
   "source": [
    "def Julio_Cesar(entrada):\n",
    "    print(entrada)\n",
    "    abc = \"ABCDEFGHIJKLMNÑOPQRSTUVWXYZ\"\n",
    "    salida = \"\"\n",
    "    \n",
    "    for i in entrada:\n",
    "        if i != \" \":\n",
    "            if not i.isupper():\n",
    "                i = i.upper()\n",
    "            if i == \"Á\":\n",
    "                i=\"A\"\n",
    "            if i == \"É\":\n",
    "                i=\"E\"\n",
    "            if i == \"Í\":\n",
    "                i=\"I\"\n",
    "            if i == \"Ó\":\n",
    "                i=\"O\"\n",
    "            if i == \"Ú\":\n",
    "                i=\"U\"\n",
    "            if i in abc:\n",
    "                index = abc.index(i)\n",
    "                nueva_posicion = (index + 3) % len(abc)\n",
    "                nueva_letra = abc[nueva_posicion]\n",
    "                salida += nueva_letra\n",
    "            else:\n",
    "                salida += i\n",
    "        else:\n",
    "            salida += \" \"\n",
    "        \n",
    "    print(salida)\n",
    "\n",
    "Julio_Cesar(\"Hola Julio Cesar, ¿Qué tal estas? ABCDEFGHIJKLMNÑOPQRSTUVWXYZ\")\n"
   ]
  },
  {
   "cell_type": "markdown",
   "id": "b8b59b29",
   "metadata": {},
   "source": [
    "<hr>\n",
    "<b><font color='red'>Ejercicio 04</font></b>  \n",
    "\n",
    "El cifrado con clave, hay algunas formas de mejorar el método de Julio Cesar sin complicarlo demasiado, por ejemplo elegir una palabra clave con todas sus letras diferentes, supongamos que elegimos TUNOMBRE. Escribimos entonces el alfabeto normal junto con el transformado siguiente:\n",
    "\n",
    "    abc=\"ABCDEFGHIJKLMNÑOPQRSTUVWXYZ\"\n",
    "    ABC=\"TUNOMBREACDFGHIJKLÑOPQVWXYZ\" \n",
    "Utiliza tu nombre sin repetir ninguna letra, es decir si te llamas ANTONIO usa ANTOI "
   ]
  },
  {
   "cell_type": "code",
   "execution_count": 17,
   "id": "1ff4a4ba",
   "metadata": {},
   "outputs": [
    {
     "name": "stdout",
     "output_type": "stream",
     "text": [
      "Hola Carlos, ¿Qué tal estas? ABCDEFGHIJKLMNÑOPQRSTUVWXYZ\n",
      "KDBO LOSBDE, ¿VXH WOB HEWOE? OFLGHIJKMNÑBPQTDUVSEWXYZCAR\n"
     ]
    }
   ],
   "source": [
    "def tu_nombre(entrada):\n",
    "    print(entrada)\n",
    "    abc=\"CARLOSBDEFGHIJKMNÑPQTUVWXYZ\"\n",
    "    \n",
    "    \"\"\"Esribe tu código aquí\"\"\"\n",
    "    salida = \"\"\n",
    "    \n",
    "    for i in entrada:\n",
    "        if i != \" \":\n",
    "            if not i.isupper():\n",
    "                i = i.upper()\n",
    "            if i == \"Á\":\n",
    "                i=\"A\"\n",
    "            if i == \"É\":\n",
    "                i=\"E\"\n",
    "            if i == \"Í\":\n",
    "                i=\"I\"\n",
    "            if i == \"Ó\":\n",
    "                i=\"O\"\n",
    "            if i == \"Ú\":\n",
    "                i=\"U\"\n",
    "            if i in abc:\n",
    "                index = abc.index(i)\n",
    "                nueva_posicion = (index + 3) % len(abc)\n",
    "                salida += abc[nueva_posicion]\n",
    "            else:\n",
    "                salida += i\n",
    "        else:\n",
    "            salida += \" \"\n",
    "    \n",
    "    print(salida)\n",
    "\n",
    "tu_nombre(\"Hola Carlos, ¿Qué tal estas? ABCDEFGHIJKLMNÑOPQRSTUVWXYZ\")"
   ]
  },
  {
   "cell_type": "code",
   "execution_count": null,
   "id": "11a2b3ab-5a08-446c-bf48-24c305c71be0",
   "metadata": {},
   "outputs": [],
   "source": []
  }
 ],
 "metadata": {
  "kernelspec": {
   "display_name": "Python 3 (ipykernel)",
   "language": "python",
   "name": "python3"
  },
  "language_info": {
   "codemirror_mode": {
    "name": "ipython",
    "version": 3
   },
   "file_extension": ".py",
   "mimetype": "text/x-python",
   "name": "python",
   "nbconvert_exporter": "python",
   "pygments_lexer": "ipython3",
   "version": "3.11.5"
  }
 },
 "nbformat": 4,
 "nbformat_minor": 5
}
