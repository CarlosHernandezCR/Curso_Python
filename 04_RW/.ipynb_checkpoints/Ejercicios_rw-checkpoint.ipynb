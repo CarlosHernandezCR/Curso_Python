{
 "cells": [
  {
   "cell_type": "markdown",
   "id": "01431782",
   "metadata": {},
   "source": [
    "<hr>\n",
    "<b><font color='red'>Ejercicio 01</font></b>  \n",
    "\n",
    "Lee el archivo.txt "
   ]
  },
  {
   "cell_type": "code",
   "execution_count": 28,
   "id": "89a53994",
   "metadata": {},
   "outputs": [
    {
     "name": "stdout",
     "output_type": "stream",
     "text": [
      "1.0   2.00\n",
      "2.0   4.00\n",
      "3.0   6.00\n",
      "4.0   8.00\n"
     ]
    }
   ],
   "source": [
    "archivo=\"archivo.txt\"\n",
    "\"\"\"Esribe tu código aquí\"\"\"\n",
    "f = open(archivo,\"r\")\n",
    "array=f.read()\n",
    "numeros=array.split()\n",
    "counter=1;\n",
    "for i in numeros:\n",
    "    numero=float(i)\n",
    "    if(counter%2!=0):\n",
    "        print('{:.1f}'.format(numero),end='   ')\n",
    "        counter+=1\n",
    "    else:\n",
    "        print('{:.2f}'.format(numero))\n",
    "        counter+=1"
   ]
  },
  {
   "cell_type": "markdown",
   "id": "abf12d77",
   "metadata": {},
   "source": [
    "y haz que tenga la siguiente salida:\n",
    "\n",
    "    1.0   2.00  \n",
    "    2.0   4.00  \n",
    "    3.0   6.00  \n",
    "    4.0   8.00  \n"
   ]
  },
  {
   "cell_type": "markdown",
   "id": "e822cc55",
   "metadata": {},
   "source": [
    "<hr>\n",
    "<b><font color='red'>Ejercicio 02</font></b>  "
   ]
  },
  {
   "cell_type": "markdown",
   "id": "db1ab0a6",
   "metadata": {},
   "source": [
    "Haz lo mismo con el archvo archivo_error.txt,con cuidado de que a este archivo le falta algún dato, haz que en ese caso cuando lo lea, si no hay dos columnas no lo escriba."
   ]
  },
  {
   "cell_type": "code",
   "execution_count": 69,
   "id": "f87a2f49",
   "metadata": {},
   "outputs": [
    {
     "name": "stdout",
     "output_type": "stream",
     "text": [
      "1.0   2.00\n",
      "3.0   6.00\n",
      "4.0   8.00\n"
     ]
    }
   ],
   "source": [
    "\"\"\"Esribe tu código aquí\"\"\"\n",
    "with open('archivo_error.txt', 'r') as archivo:\n",
    "    lineas = archivo.readlines()\n",
    "lineas_formateadas = []\n",
    "for linea in lineas:\n",
    "    numeros = linea.split()\n",
    "    if len(numeros) >= 2:\n",
    "        numero1_formateado = f\"{float(numeros[0]):.1f}\"\n",
    "        numero2_formateado = f\"{float(numeros[1]):.2f}\"\n",
    "        linea_formateada = f\"{numero1_formateado}   {numero2_formateado}\"\n",
    "        lineas_formateadas.append(linea_formateada)\n",
    "for linea in lineas_formateadas:\n",
    "    print(linea)"
   ]
  },
  {
   "cell_type": "markdown",
   "id": "9f77bb7c",
   "metadata": {},
   "source": [
    "<hr>\n",
    "<b><font color='red'>Ejercicio 03</font></b>  "
   ]
  },
  {
   "cell_type": "markdown",
   "id": "e1334eb4",
   "metadata": {},
   "source": [
    "Lee el archivo.txt, haz que imprima las columnas en las filas y las filas en las columnas"
   ]
  },
  {
   "cell_type": "code",
   "execution_count": 11,
   "id": "660b829b",
   "metadata": {},
   "outputs": [
    {
     "name": "stdout",
     "output_type": "stream",
     "text": [
      "1 2 3 4\n",
      "2 4 6 8\n"
     ]
    }
   ],
   "source": [
    "\"\"\"Esribe tu código aquí\"\"\"\n",
    "with open(\"archivo.txt\", \"r\") as archivo:\n",
    "    array = archivo.read().split()\n",
    "pares = []\n",
    "impares = []\n",
    "for i in range(len(array)):\n",
    "    if i % 2 == 0:\n",
    "        pares.append(array[i])\n",
    "    else:\n",
    "        impares.append(array[i])\n",
    "array_bidimensional = [pares, impares]\n",
    "for fila in array_bidimensional:\n",
    "    print(\" \".join(fila))"
   ]
  },
  {
   "cell_type": "markdown",
   "id": "0e5c0c6f",
   "metadata": {},
   "source": [
    "<hr>\n",
    "<b><font color='red'>Ejercicio 04</font></b>  "
   ]
  },
  {
   "cell_type": "markdown",
   "id": "171179c2",
   "metadata": {},
   "source": [
    "1. Escribe en un archivo la siguiente matriz:\n",
    "$\n",
    "\\begin{equation}\n",
    "\\begin{pmatrix}\n",
    "3 & 1 & 3\\\\\n",
    "-1 & 1 & 0\\\\\n",
    "-2 & 4 & 1\n",
    "\\end{pmatrix}\n",
    "\\end{equation} \n",
    "$\n",
    "2. Lee el archivo\n",
    "3. Calcula con los datos leidos el determinante de la matriz y lo saque por pantalla"
   ]
  },
  {
   "cell_type": "code",
   "execution_count": 18,
   "id": "6f82b277",
   "metadata": {},
   "outputs": [
    {
     "name": "stdout",
     "output_type": "stream",
     "text": [
      "-5\n"
     ]
    }
   ],
   "source": [
    "f = open(\"Matriz.txt\",\"w\")\n",
    "fila1=[3,1,3]\n",
    "fila2=[-1,1,0]\n",
    "fila3=[-2,4,1]\n",
    "array_bidimensional = [fila1, fila2,fila3]\n",
    "for fila in array_bidimensional:\n",
    "    fila_str = \" \".join([str(x) for x in fila])\n",
    "    f.write(fila_str + \"\\n\")\n",
    "matriz = []\n",
    "with open(\"Matriz.txt\", \"r\") as archivo:\n",
    "    lineas = archivo.readlines()\n",
    "    for linea in lineas:\n",
    "        elementos = [int(elemento) for elemento in linea.strip().split()]\n",
    "        matriz.append(elementos)\n",
    "a, b, c = matriz[0]\n",
    "d, e, f = matriz[1]\n",
    "g, h, i = matriz[2]\n",
    "print((a*b*c)+(h*d*c)+(g*b*f)-((i*e*a)+(a*f*h)+(i*b*d)))"
   ]
  },
  {
   "cell_type": "markdown",
   "id": "8e47f147",
   "metadata": {},
   "source": [
    "<hr>\n",
    "<b><font color='red'>Ejercicio 05</font></b>  "
   ]
  },
  {
   "cell_type": "markdown",
   "id": "888503ef",
   "metadata": {},
   "source": [
    "En el criptoanálisis, la técnica de análisis de frecuencias consiste en el aprovechamiento de estudios sobre la frecuencia de las letras o grupos de letras en los idiomas para poder establecer hipótesis para aprovecharlas para poder descifrar un texto cifrado sin tener la clave de descifrado (romper). Es un método típico para romper cifrados clásicos. \n",
    "Haz una anailisis de frecuencias para los 10 primeros càpitulos de el libro \"el_quijote.txt\""
   ]
  },
  {
   "cell_type": "code",
   "execution_count": 41,
   "id": "2a813698-36ec-4b6f-ad98-5ae914cea9a6",
   "metadata": {},
   "outputs": [
    {
     "name": "stdout",
     "output_type": "stream",
     "text": [
      "94074\n",
      "a: 0.127\n",
      "b: 0.017\n",
      "c: 0.037\n",
      "d: 0.053\n",
      "e: 0.138\n",
      "f: 0.005\n",
      "g: 0.011\n",
      "h: 0.012\n",
      "i: 0.053\n",
      "j: 0.007\n",
      "k: 0.000\n",
      "l: 0.060\n",
      "m: 0.026\n",
      "n: 0.066\n",
      "o: 0.099\n",
      "p: 0.021\n",
      "q: 0.019\n",
      "r: 0.061\n",
      "s: 0.073\n",
      "t: 0.037\n",
      "u: 0.048\n",
      "v: 0.011\n",
      "w: 0.000\n",
      "x: 0.000\n",
      "y: 0.015\n",
      "z: 0.004\n"
     ]
    }
   ],
   "source": [
    "with open(\"el_quijote.txt\", \"r\", encoding=\"utf-8\") as archivo:\n",
    "    texto = archivo.read().lower()\n",
    "conteo_letras = {}\n",
    "abecedario = 'abcdefghijklmnopqrstuvwxyz'\n",
    "counter=0\n",
    "for letra in abecedario:\n",
    "    conteo_letras[letra] = 0\n",
    "for caracter in texto:\n",
    "    if caracter in abecedario:\n",
    "        conteo_letras[caracter] += 1\n",
    "        counter+=1\n",
    "print(counter)\n",
    "for letra, cantidad in conteo_letras.items():\n",
    "    print(f\"{letra}: {'{:.3f}'.format(cantidad/counter)}\")"
   ]
  },
  {
   "cell_type": "markdown",
   "id": "01aa879d",
   "metadata": {},
   "source": [
    "Salida:\n",
    "\n",
    "    A   0.127\n",
    "    B   0.017\n",
    "    C   0.037\n",
    "    D   0.053\n",
    "    E   0.138\n",
    "    F   0.005\n",
    "    .\n",
    "    .\n",
    "    ."
   ]
  },
  {
   "cell_type": "markdown",
   "id": "650d9ffa",
   "metadata": {},
   "source": [
    "<hr>\n",
    "<b><font color='red'>Ejercicio 06</font></b>  "
   ]
  },
  {
   "cell_type": "markdown",
   "id": "b8ac0b0a",
   "metadata": {},
   "source": [
    "haz un analisis de frecuencias en el libro encriptado \"RH RQCEPESEFM AR MPM.txt\", y comparala con el analisis anterior\n"
   ]
  },
  {
   "cell_type": "code",
   "execution_count": 54,
   "id": "71245e32",
   "metadata": {},
   "outputs": [
    {
     "name": "stdout",
     "output_type": "stream",
     "text": [
      "el_quijote.txt   RH RQCEPESEFM AR MPM.txt\n",
      "a: 0.127           a:0.050\n",
      "b: 0.017           b:0.006\n",
      "c: 0.037           c:0.040\n",
      "d: 0.053           d:0.061\n",
      "e: 0.138           e:0.127\n",
      "f: 0.005           f:0.007\n",
      "g: 0.011           g:0.000\n",
      "h: 0.012           h:0.053\n",
      "i: 0.053           i:0.033\n",
      "j: 0.007           j:0.012\n",
      "k: 0.000           k:0.069\n",
      "l: 0.060           l:0.001\n",
      "m: 0.026           m:0.094\n",
      "n: 0.066           n:0.027\n",
      "o: 0.099           o:0.010\n",
      "p: 0.021           p:0.067\n",
      "q: 0.019           q:0.070\n",
      "r: 0.061           r:0.137\n",
      "s: 0.073           s:0.017\n",
      "t: 0.037           t:0.045\n",
      "u: 0.048           u:0.046\n",
      "v: 0.011           v:0.009\n",
      "w: 0.000           w:0.000\n",
      "x: 0.000           x:0.002\n",
      "y: 0.015           y:0.009\n",
      "z: 0.004           z:0.004\n"
     ]
    }
   ],
   "source": [
    "abc=\"ABCDEFGHIJKLMNÑOPQRSTUVWXYZ\"\n",
    "archivoCodificar=\"RH RQCEPESEFM AR MPM.txt\"\n",
    "\n",
    "\"\"\"Esribe tu código aquí\"\"\"\n",
    "with open(\"el_quijote.txt\", \"r\", encoding=\"utf-8\") as archivo:\n",
    "    texto = archivo.read().lower()  \n",
    "conteo_letras = {}\n",
    "abecedario = 'abcdefghijklmnopqrstuvwxyz'\n",
    "counter=0\n",
    "for letra in alfabeto:\n",
    "    conteo_letras[letra] = 0\n",
    "for caracter in texto:\n",
    "    if caracter in abecedario:\n",
    "        conteo_letras[caracter] += 1\n",
    "        counter+=1\n",
    "with open(archivoCodificar, \"r\", encoding=\"utf-8\") as archivo2:\n",
    "    texto2 = archivo2.read().lower()\n",
    "conteo_letras2 = {}\n",
    "counter2=0\n",
    "for letra in abecedario:\n",
    "    conteo_letras2[letra] = 0\n",
    "for caracter in texto2:\n",
    "    if caracter in abecedario:\n",
    "        conteo_letras2[caracter] += 1\n",
    "        counter2+=1\n",
    "print(\"el_quijote.txt   RH RQCEPESEFM AR MPM.txt\")\n",
    "for letra in abecedario:\n",
    "    frecuencia_rel1 = conteo_letras[letra] / counter \n",
    "    frecuencia_rel2 = conteo_letras2[letra] / counter2 \n",
    "    print(f\"{letra}: {'{:.3f}'.format(frecuencia_rel1)}\" f\"           {letra}:{'{:.3f}'.format(frecuencia_rel2)}\")"
   ]
  },
  {
   "cell_type": "markdown",
   "id": "d656e5ea",
   "metadata": {},
   "source": [
    "salida:\n",
    "\n",
    "    el_quijote.txt   RH RQCEPESEFM AR MPM.txt\n",
    "    A   0.127        A   0.049\n",
    "    B   0.017        B   0.006\n",
    "    C   0.037        C   0.040\n",
    "    .                .\n",
    "    .                .\n",
    "    .                ."
   ]
  },
  {
   "cell_type": "markdown",
   "id": "81665cdb",
   "metadata": {},
   "source": [
    "<hr>\n",
    "<b><font color='red'>Ejercicio 07</font></b>  \n",
    "\n",
    "Comparando el analisis de frecuencia sabrías decir cual es el titulo del libro.  \n",
    "RH RQCEPESEFM AR MPM"
   ]
  },
  {
   "cell_type": "markdown",
   "id": "3a97d8ff",
   "metadata": {},
   "source": [
    "El Quijote"
   ]
  }
 ],
 "metadata": {
  "kernelspec": {
   "display_name": "Python 3 (ipykernel)",
   "language": "python",
   "name": "python3"
  },
  "language_info": {
   "codemirror_mode": {
    "name": "ipython",
    "version": 3
   },
   "file_extension": ".py",
   "mimetype": "text/x-python",
   "name": "python",
   "nbconvert_exporter": "python",
   "pygments_lexer": "ipython3",
   "version": "3.11.6"
  }
 },
 "nbformat": 4,
 "nbformat_minor": 5
}
