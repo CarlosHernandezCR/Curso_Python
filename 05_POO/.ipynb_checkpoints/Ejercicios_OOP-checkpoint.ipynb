{
 "cells": [
  {
   "cell_type": "markdown",
   "id": "2450b6f4",
   "metadata": {},
   "source": [
    "<hr>\n",
    "<b><font color='red'>Ejercicio 01</font></b>  \n",
    "\n",
    "Crea una clase llamada int8 con una método llamado getint8() que obtenga el número rellenando con \"8\" ceros a la izquierda.\n",
    "Crea otro método sum(int8) que devuelva la suma rellenando con \"8\" ceros a la izquierda\n",
    "En el caso de que el número sea mayor que 9999999 o menor que -9999999, devuelve \"NAN\""
   ]
  },
  {
   "cell_type": "code",
   "execution_count": 22,
   "id": "b3afc827",
   "metadata": {},
   "outputs": [
    {
     "data": {
      "text/plain": [
       "'NAN'"
      ]
     },
     "execution_count": 22,
     "metadata": {},
     "output_type": "execute_result"
    }
   ],
   "source": [
    "class int8:\n",
    "    def __init__(self, num):\n",
    "        self.numero = num\n",
    "\n",
    "    def getint8(self):\n",
    "        return \"0\" * 8 + str(self.numero)\n",
    "    def sum(self, int8):\n",
    "        if int(int8.getint8()) >= 9999999 or int(int8.getint8()) <= -9999999:\n",
    "            return \"NAN\"\n",
    "        else:\n",
    "            return \"0\" * 8 + str((int(self.numero) + int(int8.getint8())))\n",
    "            \n",
    "#descomenta la siguientes 2 lineas\n",
    "a = int8(\"501\")\n",
    "b = int8(\"101\")\n",
    "a.getint8()\n",
    "a.sum(b)\n",
    "nmax = int8(9999999)\n",
    "a.sum(nmax)"
   ]
  },
  {
   "cell_type": "markdown",
   "id": "16c3a3ff",
   "metadata": {},
   "source": [
    "<hr>\n",
    "<b><font color='red'>Ejercicio 02</font></b>  \n",
    "\n",
    "Crea una clase llamada Cuenta que tendrá los siguientes atributos: titular (que es una persona) y cantidad (puede tener decimales). El titular será obligatorio y la cantidad es opcional. Construye los siguientes métodos para la clase:  \n",
    "- Un constructor, donde los datos pueden estar vacíos.  \n",
    "- Los setters y getters para cada uno de los atributos. El atributo no se puede modificar directamente, sólo ingresando o retirando dinero.  \n",
    "- mostrar(): Muestra los datos de la cuenta.  \n",
    "- ingresar(cantidad): se ingresa una cantidad a la cuenta, si la cantidad introducida es negativa, no se hará nada.  \n",
    "- retirar(cantidad): se retira una cantidad a la cuenta. La cuenta puede estar en números rojos.\n"
   ]
  },
  {
   "cell_type": "code",
   "execution_count": 9,
   "id": "95bf4541",
   "metadata": {},
   "outputs": [
    {
     "name": "stdout",
     "output_type": "stream",
     "text": [
      "Carlos 1000\n",
      "Miguel 990\n"
     ]
    }
   ],
   "source": [
    "class Cuenta:\n",
    "    def __init__(self, titular, cantidad=0.0):\n",
    "        self.__titular = titular\n",
    "        self.__cantidad = cantidad\n",
    "    def get_titular(self):\n",
    "        return self.__titular\n",
    "    def get_cantidad(self):\n",
    "        return self.__cantidad\n",
    "    def set_titular(self, titular):\n",
    "        self.__titular = titular\n",
    "    def mostrar(self):\n",
    "        print(self.__titular, self.__cantidad)  # Use a comma to separate the two values\n",
    "    def ingresar(self, cantidad):\n",
    "        if cantidad > 0:\n",
    "            self.__cantidad += cantidad\n",
    "    def retirar(self, cantidad):\n",
    "        self.__cantidad -= cantidad\n",
    "\n",
    "a = Cuenta(\"Carlos\", 1000)\n",
    "a.mostrar()\n",
    "a.set_titular(\"Miguel\")\n",
    "a.ingresar(20)\n",
    "a.retirar(30)\n",
    "a.mostrar()\n"
   ]
  },
  {
   "cell_type": "markdown",
   "id": "49a31663",
   "metadata": {},
   "source": [
    "<hr>\n",
    "<b><font color='red'>Ejercicio 03</font></b>  \n",
    "\n",
    "Crea una Clase Teléfono, si empieza por 9 u 8 haz que lo guarde como un fijo, en el caso de que empiece por 6 o 7 lo guarde como móvil.  \n",
    "Haz un método que cambie el número de télefono, en el caso de que reciba mas de 9 dígitos haz que devuelva \"Número no cambiado\" y no guarde el número, en el caso de que tenga nueve digitos, lo guarda como móvil o fijo.\n",
    "Crea una clase persona con télefono, de tal manera que:"
   ]
  },
  {
   "cell_type": "code",
   "execution_count": 29,
   "id": "d0cb9a5c",
   "metadata": {},
   "outputs": [
    {
     "name": "stdout",
     "output_type": "stream",
     "text": [
      "987654321\n",
      "Mi telefono es un fijo con numero 987654321\n",
      "Número no cambiado, necesitamos un número de 9 cifras\n",
      "Número cambiado, Mi teléfono es un movil con número 654987321\n"
     ]
    }
   ],
   "source": [
    "class Persona_tlf:\n",
    "    def __init__(self, anio, sexo, nombre, apellido, numero):\n",
    "        self.__anio = anio\n",
    "        self.__sexo = sexo\n",
    "        self.__nombre = nombre\n",
    "        self.__apellido = apellido\n",
    "        self.__numero = numero\n",
    "\n",
    "        if self.__numero[0] == '9' or self.__numero[0] == '8':\n",
    "            self.__tipo = \"fijo\"\n",
    "        elif self.__numero[0] == '6' or self.__numero[0] == '7':\n",
    "            self.__tipo = \"movil\"\n",
    "\n",
    "    def get_tipo(self):\n",
    "        return self.__tipo\n",
    "    def get_nombre(self):\n",
    "        return self.__nombre\n",
    "    def get_apellido(self):\n",
    "        return self.__apellido\n",
    "    def get_tlf(self):\n",
    "        return self.__numero\n",
    "    def get_anio(self):\n",
    "        return self.__anio\n",
    "    def get_sexo(self):\n",
    "        return self.__sexo\n",
    "    def tlf_info(self):\n",
    "        return \"Mi telefono es un \"+self.__tipo+ \" con numero \"+self.__numero\n",
    "    def cambiar_tlf(self,nuevo):\n",
    "        if(len(str(nuevo))<9):\n",
    "            print(\"Número no cambiado, necesitamos un número de 9 cifras\")\n",
    "        else: \n",
    "            self.__numero=str(nuevo)\n",
    "            if self.__numero[0] == '9' or self.__numero[0] == '8':\n",
    "                self.__tipo = \"fijo\"\n",
    "            elif self.__numero[0] == '6' or self.__numero[0] == '7':\n",
    "                self.__tipo = \"movil\"\n",
    "            print(\"Número cambiado, Mi teléfono es un \"+self.__tipo+\" con número \"+self.__numero)\n",
    "    \n",
    "#descomenta la siguientes 2 lineas\n",
    "persona_tlf01 = Persona_tlf(1979,\"Hombre\",\"Manuel\",\"López\",\"987654321\")\n",
    "print(persona_tlf01.get_tlf())\n",
    "\n",
    "#salida:\n",
    "#987654321\n",
    "\n",
    "#descomenta la siguiente linea\n",
    "print(persona_tlf01.tlf_info())\n",
    "\n",
    "#salida:\n",
    "#Mi teléfono es un fíjo con número 987654321\n",
    "\n",
    "#descomenta la siguiente linea\n",
    "persona_tlf01.cambiar_tlf(1235)\n",
    "#salida:\n",
    "#Número no cambiado, necesitamos un número de 9 cifras\n",
    "\n",
    "#descomenta la siguiente linea\n",
    "persona_tlf01.cambiar_tlf(654987321)\n",
    "\n",
    "#salida:\n",
    "#Número cambiado, Mi teléfono es un móvil con número 654987321"
   ]
  },
  {
   "cell_type": "markdown",
   "id": "2f3e2e6c",
   "metadata": {},
   "source": [
    "<hr>\n",
    "<b><font color='red'>Ejercicio 04</font></b>  \n",
    "\n",
    "Dadas las siguientes listas de módulos:"
   ]
  },
  {
   "cell_type": "code",
   "execution_count": 3,
   "id": "465649bf",
   "metadata": {},
   "outputs": [],
   "source": [
    "DAM1 = [[\"0484\", \"Bases de datos\",6 ],\n",
    "  [\"0487\", \"Entornos de desarrollo\", 3 ],\n",
    "  [\"0493\", \"Formación y orientación laboral\", 3 ],\n",
    "  [\"0373\", \"Lenguaje de marcas y sistemas de gestión de información\", 4 ],\n",
    "  [\"0485\", \"Programación\",8 ],\n",
    "  [\"0483\", \"Sistemas informáticos\", 6 ]]\n",
    "DAM2 = [[\"0486\", \"Acceso a datos\", 6],\n",
    "  [\"0488\", \"Desarrollo de interfaces\", 6],\n",
    "  [\"0494\", \"Empresa e iniciativa emprendedora\", 3],\n",
    "  [\"9009\", \"Inglés técnico para grado superior\", 2],\n",
    "  [\"0490\", \"Programación de servicios y procesos\", 4],\n",
    "  [\"0489\", \"Programación multimedia y dispositivos móviles\", 4],\n",
    "  [\"0491\", \"Sistemas de gestión empresarial\", 5]]"
   ]
  },
  {
   "cell_type": "markdown",
   "id": "a12ca49d",
   "metadata": {},
   "source": [
    "Crea la clase Curso que cargue los dos cursos DAM1 y DAM2.\n",
    "Crea la clase Modulo que cargue los módulos.\n",
    "Haz una lista con los cursos de tal forma que la salida de:"
   ]
  },
  {
   "cell_type": "code",
   "execution_count": 34,
   "id": "bf318c24",
   "metadata": {},
   "outputs": [
    {
     "name": "stdout",
     "output_type": "stream",
     "text": [
      "Curso 1 - DAM\n",
      "  Módulo: Bases de datos - Duración: 6 semanas\n",
      "  Módulo: Entornos de desarrollo - Duración: 3 semanas\n",
      "  Módulo: Formación y orientación laboral - Duración: 3 semanas\n",
      "  Módulo: Lenguaje de marcas y sistemas de gestión de información - Duración: 4 semanas\n",
      "  Módulo: Programación - Duración: 8 semanas\n",
      "  Módulo: Sistemas informáticos - Duración: 6 semanas\n",
      "Curso 2 - DAM\n",
      "  Módulo: Acceso a datos - Duración: 6 semanas\n",
      "  Módulo: Desarrollo de interfaces - Duración: 6 semanas\n",
      "  Módulo: Empresa e iniciativa emprendedora - Duración: 3 semanas\n",
      "  Módulo: Inglés técnico para grado superior - Duración: 2 semanas\n",
      "  Módulo: Programación de servicios y procesos - Duración: 4 semanas\n",
      "  Módulo: Programación multimedia y dispositivos móviles - Duración: 4 semanas\n",
      "  Módulo: Sistemas de gestión empresarial - Duración: 5 semanas\n"
     ]
    }
   ],
   "source": [
    "DAM1 = [[\"0484\", \"Bases de datos\",6 ],\n",
    "  [\"0487\", \"Entornos de desarrollo\", 3 ],\n",
    "  [\"0493\", \"Formación y orientación laboral\", 3 ],\n",
    "  [\"0373\", \"Lenguaje de marcas y sistemas de gestión de información\", 4 ],\n",
    "  [\"0485\", \"Programación\",8 ],\n",
    "  [\"0483\", \"Sistemas informáticos\", 6 ]]\n",
    "DAM2 = [[\"0486\", \"Acceso a datos\", 6],\n",
    "  [\"0488\", \"Desarrollo de interfaces\", 6],\n",
    "  [\"0494\", \"Empresa e iniciativa emprendedora\", 3],\n",
    "  [\"9009\", \"Inglés técnico para grado superior\", 2],\n",
    "  [\"0490\", \"Programación de servicios y procesos\", 4],\n",
    "  [\"0489\", \"Programación multimedia y dispositivos móviles\", 4],\n",
    "  [\"0491\", \"Sistemas de gestión empresarial\", 5]]\n",
    "class Curso:\n",
    "    def __init__(self, año, nombre):\n",
    "        self.año = año\n",
    "        self.nombre = nombre\n",
    "        self.modulos = []\n",
    "\n",
    "    def info(self):\n",
    "        print(f\"Curso {self.año} - {self.nombre}\")\n",
    "        for modulo in self.modulos:\n",
    "            print(f\"  Módulo: {modulo.nombre} - Duración: {modulo.horas} semanas\")\n",
    "\n",
    "class Modulo:\n",
    "    def __init__(self, id, nombre, horas):\n",
    "        self.id = id\n",
    "        self.nombre = nombre\n",
    "        self.horas = horas\n",
    "        \n",
    "# descomenta cuando termines de escribir la clase Modulo y Curso    \n",
    "cursos=[Curso(1,\"DAM\"),Curso(2,\"DAM\")]\n",
    "\n",
    "for i in DAM1:\n",
    "  cursos[0].modulos.append(Modulo(i[0],i[1],i[2]))\n",
    "\n",
    "for i in DAM2:\n",
    "  cursos[1].modulos.append(Modulo(i[0],i[1],i[2]))\n",
    "\n",
    "for i in cursos:\n",
    "  i.info()"
   ]
  },
  {
   "cell_type": "markdown",
   "id": "2240dd3a",
   "metadata": {},
   "source": [
    "- ayuda:\n",
    "    + metodo \\_\\_init\\_\\_ para la clase Curso : def \\_\\_init\\_\\_(self,año,nombre):\n",
    "    + metodo \\_\\_init\\_\\_ para la clase Modulo : def \\_\\_init\\_\\_(self, ID, nombre , horas):\n"
   ]
  },
  {
   "cell_type": "markdown",
   "id": "f4472238",
   "metadata": {},
   "source": [
    "<code>for i in cursos:\n",
    "    i.info()\n",
    "</code>\n",
    "\n",
    "    Curso 1 DAM\n",
    "      0484 Bases de datos (6)\n",
    "      0487 Entornos de desarrollo (3)\n",
    "      0493 Formación y orientación laboral (3)\n",
    "      0373 Lenguaje de marcas y sistemas de gestión de información (4)\n",
    "      0485 Programación (8)\n",
    "      0483 Sistemas informáticos (6)\n",
    "    Curso 2 DAM\n",
    "      0486 Acceso a datos (6)\n",
    "      0488 Desarrollo de interfaces (6)\n",
    "      0494 Empresa e iniciativa emprendedora (3)\n",
    "      9009 Inglés técnico para grado superior (2)\n",
    "      0490 Programación de servicios y procesos (4)\n",
    "      0489 Programación multimedia y dispositivos móviles (4)\n",
    "      0491 Sistemas de gestión empresarial (5)"
   ]
  },
  {
   "cell_type": "markdown",
   "id": "b75d3278",
   "metadata": {},
   "source": [
    "<hr>\n",
    "<b><font color='red'>Ejercicio 05</font></b>  \n",
    "\n",
    "Completa el siguiente código:"
   ]
  },
  {
   "cell_type": "code",
   "execution_count": 53,
   "id": "0a3d4184",
   "metadata": {},
   "outputs": [
    {
     "name": "stdout",
     "output_type": "stream",
     "text": [
      "El pasajero Antonella tiene cara alegre\n",
      "El pasajero Isabel tiene cara alegre\n",
      "El pasajero Luna tiene cara alegre\n",
      "El pasajero Luciana tiene cara alegre\n",
      "El pasajero Ana tiene cara alegre\n",
      "El pasajero Sofía tiene cara alegre\n",
      "El pasajero Mario tiene cara alegre\n",
      "El pasajero Francesca tiene cara alegre\n",
      "El pasajero Alejandro tiene cara alegre\n",
      "El pasajero Alejandra tiene cara alegre\n",
      "El pasajero Allison tiene cara alegre\n",
      "El pasajero Isaac tiene cara alegre\n",
      "El pasajero Carlos tiene cara DE CUMPLEAÑOS\n",
      "El pasajero Renata tiene cara alegre\n",
      "El pasajero Laura tiene cara alegre\n",
      "El pasajero Sebastián tiene cara alegre\n",
      "El pasajero Abigail tiene cara alegre\n",
      "El pasajero Andrea tiene cara alegre\n",
      "El pasajero María tiene cara alegre\n",
      "El pasajero Ivanna tiene cara alegre\n",
      "El pasajero Alejandra tiene cara alegre\n",
      "El pasajero Violeta tiene cara alegre\n",
      "El pasajero Ashley tiene cara alegre\n",
      "El pasajero Julia tiene cara alegre\n",
      "El pasajero Miranda tiene cara alegre\n",
      "El pasajero Nicole tiene cara alegre\n",
      "El pasajero Rafaela tiene cara alegre\n",
      "El pasajero Samuel tiene cara alegre\n",
      "El pasajero Kevin tiene cara alegre\n",
      "El pasajero Lucía tiene cara alegre\n",
      "El pasajero LiaHombre tiene cara alegre\n",
      "El pasajero Allison tiene cara alegre\n"
     ]
    }
   ],
   "source": [
    "#tenemos la siguiente lista de pasajeros:\n",
    "class Persona:\n",
    "    def __init__(self, nombre):\n",
    "        self.__nombre=nombre\n",
    "    def getNombre(self):\n",
    "        return self.__nombre\n",
    "\n",
    "lista=[[\"Mujer\",\"Antonella\",\"Rodriguez\"],\n",
    "[\"Mujer\",\"Isabel\",\"Gutierrez\"],\n",
    "[\"Mujer\",\"Luna\",\"Garcia\"],\n",
    "[\"Mujer\",\"Luciana\",\"Gonzalez\"],\n",
    "[\"Mujer\",\"Ana\",\"Martinez\"],\n",
    "[\"Mujer\",\"Sofía\",\"Medina\"],\n",
    "[\"Hombre\",\"Mario\",\"Herrera\"],\n",
    "[\"Mujer\",\"Francesca\",\"Sanchez\"],\n",
    "[\"Hombre\",\"Alejandro\",\"Sanchez\"],\n",
    "[\"Mujer\",\"Alejandra\",\"Romero\"],\n",
    "[\"Mujer\",\"Allison\",\"Castro\"],\n",
    "[\"Hombre\",\"Isaac\",\"Vazquez\"],\n",
    "[\"Hombre\",\"Carlos\",\"Gonzalez\"],\n",
    "[\"Mujer\",\"Renata\",\"Morrell\"],\n",
    "[\"Mujer\",\"Laura\",\"Sanchez\"],\n",
    "[\"Hombre\",\"Sebastián\",\"Molina\"],\n",
    "[\"Mujer\",\"Abigail\",\"Lopez\"],\n",
    "[\"Mujer\",\"Andrea\",\"Ramos\"],\n",
    "[\"Mujer\",\"María\",\"Delgado\"],\n",
    "[\"Mujer\",\"Ivanna\",\"Serrano\"],\n",
    "[\"Mujer\",\"Alejandra\",\"Medina\"],\n",
    "[\"Mujer\",\"Violeta\",\"Ortega\"],\n",
    "[\"Mujer\",\"Ashley\",\"Rodriguez\"],\n",
    "[\"Mujer\",\"Julia\",\"Alvarez\"],\n",
    "[\"Mujer\",\"Miranda\",\"Cruz\"],\n",
    "[\"Mujer\",\"Nicole\",\"Gil\"],\n",
    "[\"Mujer\",\"Rafaela\",\"Herrera\"],\n",
    "[\"Hombre\",\"Samuel\",\"Mendez\"],\n",
    "[\"Hombre\",\"Kevin\",\"Castro\"],\n",
    "[\"Mujer\",\"Lucía\",\"Santos\"],\n",
    "[\"Hombre\",\"LiaHombre\",\"Gil\"],\n",
    "[\"Mujer\",\"Allison\",\"Jimenez\"]]\n",
    "\n",
    "personas = []\n",
    "for _ , nombre, _ in lista:\n",
    "    persona = Persona(nombre)\n",
    "    personas.append(persona)\n",
    "\n",
    "for persona in personas:\n",
    "    if persona.getNombre() == \"Carlos\":\n",
    "        print(f\"El pasajero {persona.getNombre()} tiene cara DE CUMPLEAÑOS\")\n",
    "    else:\n",
    "        print(f\"El pasajero {persona.getNombre()} tiene cara alegre\")\n"
   ]
  },
  {
   "cell_type": "markdown",
   "id": "27b79e8f",
   "metadata": {},
   "source": [
    "    El pasajero Antonella tiene cara Alegre\n",
    "    El pasajero Isabel tiene cara Alegre\n",
    "    El pasajero Luna tiene cara Alegre\n",
    "    El pasajero Luciana tiene cara Alegre\n",
    "    El pasajero Ana tiene cara Alegre\n",
    "    El pasajero Sofía tiene cara Alegre\n",
    "    El pasajero Mario tiene cara Alegre\n",
    "    El pasajero Francesca tiene cara Alegre\n",
    "    El pasajero Alejandro tiene cara Alegre\n",
    "    El pasajero Alejandra tiene cara Alegre\n",
    "    El pasajero Allison tiene cara Alegre\n",
    "    El pasajero Isaac tiene cara Alegre\n",
    "    El pasajero Carlos tiene cara Alegre\n",
    "    El pasajero Renata tiene cara Alegre\n",
    "    El pasajero Laura tiene cara Alegre\n",
    "    El pasajero Sebastián tiene cara Alegre\n",
    "    El pasajero Abigail tiene cara Alegre\n",
    "    El pasajero Andrea tiene cara Alegre\n",
    "    El pasajero María tiene cara Alegre\n",
    "    El pasajero Ivanna tiene cara Alegre\n",
    "    El pasajero Alejandra tiene cara Alegre\n",
    "    El pasajero Violeta tiene cara Alegre\n",
    "    El pasajero Ashley tiene cara Alegre\n",
    "    El pasajero Julia tiene cara Alegre\n",
    "    El pasajero Miranda tiene cara Alegre\n",
    "    El pasajero Daniel tiene cara DE CUMPLEAÑOS\n",
    "    El pasajero Rafaela tiene cara Alegre\n",
    "    El pasajero Samuel tiene cara Alegre\n",
    "    El pasajero Kevin tiene cara Alegre\n",
    "    El pasajero Lucía tiene cara Alegre\n",
    "    El pasajero LiaHombre tiene cara Alegre\n",
    "    El pasajero Allison tiene cara Alegre"
   ]
  },
  {
   "cell_type": "code",
   "execution_count": null,
   "id": "fc7f2a5c",
   "metadata": {},
   "outputs": [],
   "source": []
  }
 ],
 "metadata": {
  "kernelspec": {
   "display_name": "Python 3 (ipykernel)",
   "language": "python",
   "name": "python3"
  },
  "language_info": {
   "codemirror_mode": {
    "name": "ipython",
    "version": 3
   },
   "file_extension": ".py",
   "mimetype": "text/x-python",
   "name": "python",
   "nbconvert_exporter": "python",
   "pygments_lexer": "ipython3",
   "version": "3.11.6"
  }
 },
 "nbformat": 4,
 "nbformat_minor": 5
}
