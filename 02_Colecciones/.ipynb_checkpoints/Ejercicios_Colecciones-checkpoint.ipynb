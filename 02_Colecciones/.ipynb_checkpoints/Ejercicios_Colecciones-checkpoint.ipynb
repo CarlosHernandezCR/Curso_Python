{
 "cells": [
  {
   "cell_type": "markdown",
   "id": "9b066a79",
   "metadata": {},
   "source": [
    "<hr>\n",
    "<b><font color='red'>Ejercicio 01</font></b>\n",
    "\n",
    "Completa y responde:"
   ]
  },
  {
   "cell_type": "code",
   "execution_count": 11,
   "id": "14315206",
   "metadata": {},
   "outputs": [
    {
     "name": "stdout",
     "output_type": "stream",
     "text": [
      "Violeta\n",
      "['Rojo', 'Naranja', 'Verde', 'Azul', 'Añil', 'Violeta']\n",
      "['Rojo', 'Verde', 'Naranja', 'Azul', 'Añil', 'Violeta']\n",
      "['Azul', 'Añil', 'Naranja', 'Rojo', 'Verde', 'Violeta']\n",
      "6\n"
     ]
    }
   ],
   "source": [
    "lista = [\"Rojo\",\"Naranja\",\"Amarillo\",\"Verde\",\"Azul\",\"Añil\",\"Violeta\"]\n",
    "#imprime por pantalla el septimo item\n",
    "\"\"\"Esribe tu código aquí\"\"\"\n",
    "print(lista[6])\n",
    "#borra el Amarillo e imprime por pantalla la lista entera\n",
    "\"\"\"Esribe tu código aquí\"\"\"\n",
    "lista.remove(\"Amarillo\")\n",
    "print(lista)\n",
    "#cambia la posición del Naranja por la posición del Verde e imprime por pantalla la lista entera\n",
    "\"\"\"Esribe tu código aquí\"\"\"\n",
    "aux=lista[1]\n",
    "lista[1]=lista[2]\n",
    "lista[2]=aux\n",
    "print(lista)\n",
    "#ordena la lista e imprimela por pantalla\n",
    "\"\"\"Esribe tu código aquí\"\"\"\n",
    "lista.sort()\n",
    "print(lista)\n",
    "#¿Cuál es la longitud de la lista?\n",
    "\"\"\"Esribe tu código aquí\"\"\"\n",
    "print(len(lista))"
   ]
  },
  {
   "cell_type": "markdown",
   "id": "49d3d66d",
   "metadata": {},
   "source": [
    "<hr>\n",
    "<b><font color='red'>Ejercicio 02</font></b>\n",
    "\n",
    "Es el mismo ejercicio que el anterior, pero ahora lo hacemos con tuplas."
   ]
  },
  {
   "cell_type": "code",
   "execution_count": 13,
   "id": "ea21a1f9",
   "metadata": {},
   "outputs": [
    {
     "name": "stdout",
     "output_type": "stream",
     "text": [
      "Violeta\n",
      "7\n"
     ]
    }
   ],
   "source": [
    "tupla = (\"Rojo\",\"Naranja\",\"Amarillo\",\"Verde\",\"Azul\",\"Añil\",\"Violeta\")\n",
    "#imprime por pantalla el septimo item\n",
    "\"\"\"Esribe tu código aquí\"\"\"\n",
    "print(tupla[6])\n",
    "#borra el Amarillo e imprime por pantalla la tupla entera\n",
    "\"\"\"Esribe tu código aquí\"\"\"\n",
    "#NO SE PUEDE\n",
    "#cambia la posción del Naranja por la posición del Verde e imprime por pantalla la tupla entera\n",
    "\"\"\"Esribe tu código aquí\"\"\"\n",
    "#NO SE PUEDE\n",
    "#ordena la tupla e imprimela por pantalla\n",
    "\"\"\"Esribe tu código aquí\"\"\"\n",
    "#NO SE PUEDE\n",
    "#¿Cuál es la longitud de la tupla?\n",
    "\"\"\"Esribe tu código aquí\"\"\"\n",
    "print(len(tupla))"
   ]
  },
  {
   "cell_type": "markdown",
   "id": "2a94218a",
   "metadata": {},
   "source": [
    "<hr>\n",
    "<b><font color='red'>Ejercicio 03</font></b>\n",
    "\n",
    "Completa y responde"
   ]
  },
  {
   "cell_type": "code",
   "execution_count": 16,
   "id": "7b28e685",
   "metadata": {},
   "outputs": [
    {
     "name": "stdout",
     "output_type": "stream",
     "text": [
      "Carlos\n",
      "6\n",
      "diciembre\n"
     ]
    }
   ],
   "source": [
    "dic = {\n",
    "    \"Nombre\":\"Carlos\",\n",
    "    \"Apellido\":\"Hernández\",\n",
    "    \"Día de nacimiento\":\"6\",\n",
    "    \"Mes de nacimiento\":\"Diciembre\"\n",
    "}\n",
    "\n",
    "#responde a las siguientes preguntas accediento al diccionario que has creado:\n",
    "#¿Cómo te llamas?\n",
    "\"\"\"Esribe tu código aquí\"\"\"\n",
    "print(dic[\"Nombre\"])\n",
    "#¿Qué día naciste?\n",
    "\"\"\"Esribe tu código aquí\"\"\"\n",
    "print(dic[\"Día de nacimiento\"])\n",
    "#Utiliza la siguiente lista y con tu diccionario responde a la siugiente pregunta con el nombre del mes\n",
    "MES=[\"enero\",\"febrero\",\"marzo\",\"abril\",\"mayo\",\"junio\",\"julio\",\"agosto\",\"septiembre\",\"octubre\",\"noviembre\",\"diciembre\"]\n",
    "#¿Qué mes naciste?\n",
    "\"\"\"Esribe tu código aquí\"\"\"\n",
    "print(MES[11])"
   ]
  },
  {
   "cell_type": "code",
   "execution_count": null,
   "id": "bbfda54b",
   "metadata": {},
   "outputs": [],
   "source": []
  }
 ],
 "metadata": {
  "kernelspec": {
   "display_name": "Python 3 (ipykernel)",
   "language": "python",
   "name": "python3"
  },
  "language_info": {
   "codemirror_mode": {
    "name": "ipython",
    "version": 3
   },
   "file_extension": ".py",
   "mimetype": "text/x-python",
   "name": "python",
   "nbconvert_exporter": "python",
   "pygments_lexer": "ipython3",
   "version": "3.11.5"
  }
 },
 "nbformat": 4,
 "nbformat_minor": 5
}
